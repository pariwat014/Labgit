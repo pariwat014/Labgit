{
  "nbformat": 4,
  "nbformat_minor": 0,
  "metadata": {
    "colab": {
      "provenance": []
    },
    "kernelspec": {
      "name": "python3",
      "display_name": "Python 3"
    },
    "language_info": {
      "name": "python"
    }
  },
  "cells": [
    {
      "cell_type": "code",
      "source": [
        "class Pokemon:\n",
        "    def __init__(self, name, ptype, level, health):\n",
        "        self.name = name\n",
        "        self.ptype = ptype\n",
        "        self.level = level\n",
        "        self.health = health\n",
        "\n",
        "    def attack(self, target):\n",
        "        target.take_damage(self.level * 5)\n",
        "        print(f\"{self.name} attacks {target.name}!\")\n",
        "\n",
        "    def take_damage(self, damage):\n",
        "        self.health -= damage\n",
        "        print(f\"{self.name} takes {damage} damage! HP left: {self.health}\")\n",
        "\n",
        "    def level_up(self):\n",
        "        self.level += 1\n",
        "        self.health += 10\n",
        "        print(f\"{self.name} leveled up to {self.level}!\")"
      ],
      "metadata": {
        "id": "D52oWt7tTGSF"
      },
      "execution_count": 1,
      "outputs": []
    },
    {
      "cell_type": "code",
      "source": [
        "class Pokedex:\n",
        "    def __init__(self):\n",
        "        self.pokemons = []\n",
        "\n",
        "    def catch(self, pokemon):\n",
        "        self.pokemons.append(pokemon)\n",
        "        print(f\"Added {pokemon.name} to Pokedex.\")\n",
        "\n",
        "    def release(self, pokemon_name):\n",
        "        for pokemon in self.pokemons:\n",
        "            if pokemon.name == pokemon_name:\n",
        "                self.pokemons.remove(pokemon)\n",
        "                print(f\"{pokemon_name} has been released from Pokedex.\")\n",
        "                return\n",
        "        print(f\"{pokemon_name} is not in the Pokedex.\")\n",
        "\n",
        "    def find_pokemon(self, name):\n",
        "        for pokemon in self.pokemons:\n",
        "            if pokemon.name == name:\n",
        "                return pokemon\n",
        "        return None"
      ],
      "metadata": {
        "id": "1ZUHxwoGQ5rJ"
      },
      "execution_count": 2,
      "outputs": []
    },
    {
      "cell_type": "code",
      "source": [
        "class Trainer:\n",
        "    def __init__(self, name):\n",
        "        self.name = name\n",
        "        self.pokedex = Pokedex()\n",
        "        pikachu = Pokemon('PikachuEx', 'lightning', 20, 100)\n",
        "        self.pokedex.catch(pikachu)\n",
        "\n",
        "    def catch_pokemon(self, pokemon):\n",
        "        self.pokedex.catch(pokemon)\n",
        "        print(f\"{self.name} caught {pokemon.name}!\")\n",
        "\n",
        "    def train_pokemon(self, pokemon_name):\n",
        "        pokemon = self.pokedex.find_pokemon(pokemon_name)\n",
        "        if pokemon:\n",
        "            print(f\"{self.name} trained {pokemon.name}!\")\n",
        "            pokemon.level_up()\n",
        "        else:\n",
        "            print(f\"{pokemon_name} is not in {self.name}'s Pokedex.\")\n",
        "\n",
        "    def release_pokemon(self, pokemon_name):\n",
        "        self.pokedex.release(pokemon_name)"
      ],
      "metadata": {
        "id": "mmJJTNa0NtO3"
      },
      "execution_count": 3,
      "outputs": []
    },
    {
      "cell_type": "code",
      "source": [
        "pokedex = []\n",
        "satoshi = Trainer('Satoshi')\n",
        "charizard = Pokemon('CharizardEx', 'fire', 50, 150)\n",
        "satoshi.catch_pokemon(charizard)\n",
        "\n",
        "print('\\n-------Pokedex-------')\n",
        "for pokemon in satoshi.pokedex.pokemons:\n",
        "    print(pokemon.name)\n",
        "print('-------Pokedex-------\\n')\n",
        "\n",
        "satoshi.train_pokemon('CharizardEx')\n",
        "satoshi.train_pokemon('CharizardEx')\n",
        "satoshi.release_pokemon('CharizardEx')\n",
        "\n",
        "print('\\n-------Pokedex-------')\n",
        "for pokemon in satoshi.pokedex.pokemons:\n",
        "    print(pokemon.name)\n",
        "print('-------Pokedex-------\\n')\n"
      ],
      "metadata": {
        "id": "_IxSHrRUN5yv",
        "colab": {
          "base_uri": "https://localhost:8080/"
        },
        "outputId": "827fbd59-865c-428f-831a-59a73be3d76b"
      },
      "execution_count": 4,
      "outputs": [
        {
          "output_type": "stream",
          "name": "stdout",
          "text": [
            "Added PikachuEx to Pokedex.\n",
            "Added CharizardEx to Pokedex.\n",
            "Satoshi caught CharizardEx!\n",
            "\n",
            "-------Pokedex-------\n",
            "PikachuEx\n",
            "CharizardEx\n",
            "-------Pokedex-------\n",
            "\n",
            "Satoshi trained CharizardEx!\n",
            "CharizardEx leveled up to 51!\n",
            "Satoshi trained CharizardEx!\n",
            "CharizardEx leveled up to 52!\n",
            "CharizardEx has been released from Pokedex.\n",
            "\n",
            "-------Pokedex-------\n",
            "PikachuEx\n",
            "-------Pokedex-------\n",
            "\n"
          ]
        }
      ]
    }
  ]
}